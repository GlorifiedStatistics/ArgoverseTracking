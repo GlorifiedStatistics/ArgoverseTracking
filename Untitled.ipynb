{
 "cells": [
  {
   "cell_type": "code",
   "execution_count": 1,
   "id": "a219298d",
   "metadata": {},
   "outputs": [
    {
     "name": "stdout",
     "output_type": "stream",
     "text": [
      "Loading dataset...\n",
      "Loading dataset statistics...\n",
      "Statistics loaded!\n",
      "Normalizing data...\n"
     ]
    }
   ],
   "source": [
    "from ForecastModels.Models import *\n",
    "\n",
    "from Argoverse.NormFuncs import get_norm_funcs\n",
    "from Argoverse.Datasets import load_dataset\n",
    "\n",
    "nf = 'std_step'\n",
    "\n",
    "f, fp = get_norm_funcs(nf)\n",
    "kwargs = {'vmin': -1, 'vmax': 1, 'std_min': -0.5, 'std_max': 0.5}\n",
    "data, stats = load_dataset('noop', data_type='step', max_data=10_000, include_lanes=True, extra_features=False, **kwargs)\n",
    "\n",
    "y1 = data['test_y'][0:1].copy()\n",
    "\n",
    "for k in ['train_x', 'train_y', 'test_x', 'test_y']:\n",
    "    data[k] = f(data[k], stats, **kwargs)\n"
   ]
  },
  {
   "cell_type": "code",
   "execution_count": 81,
   "id": "2d1e2e35",
   "metadata": {},
   "outputs": [
    {
     "data": {
      "text/plain": [
       "array([ 0.07897949, -0.38220215, -0.03875732, -0.35009766,  0.0662384 ,\n",
       "       -0.3034668 , -0.00411987, -0.13110352, -0.05404663,  0.27697754,\n",
       "       -0.03138733, -0.34179688, -0.12002563, -0.2434082 ,  0.01252747,\n",
       "       -0.15649414,  0.00178528, -0.57849121, -0.01313782, -0.33007812,\n",
       "        0.17680359, -0.94812012, -0.19026184,  0.45227051,  0.14372253,\n",
       "       -0.25061035, -0.16795349, -0.03198242,  0.03565979, -0.28381348,\n",
       "       -0.01234436, -0.28222656, -0.00198364, -0.18652344, -0.02651978,\n",
       "       -0.18908691, -0.1013031 , -0.06469727,  0.12034607, -0.27441406,\n",
       "       -0.09991455, -0.2043457 , -0.03121948, -0.40136719, -0.07862854,\n",
       "       -0.25048828,  0.00564575, -0.09350586,  0.00604248, -0.34558105,\n",
       "        0.03326416, -0.11755371, -0.090271  , -0.29602051,  0.06445312,\n",
       "       -0.14428711,  0.01051331, -0.19543457,  0.00273132, -0.11865234])"
      ]
     },
     "execution_count": 81,
     "metadata": {},
     "output_type": "execute_result"
    }
   ],
   "source": [
    "fp(data['test_y'][0], stats, **kwargs)"
   ]
  },
  {
   "cell_type": "code",
   "execution_count": 2,
   "id": "07d536a7",
   "metadata": {},
   "outputs": [
    {
     "name": "stdout",
     "output_type": "stream",
     "text": [
      "Model: \"model\"\n",
      "_________________________________________________________________\n",
      "Layer (type)                 Output Shape              Param #   \n",
      "=================================================================\n",
      "input_1 (InputLayer)         [(None, 4960)]            0         \n",
      "_________________________________________________________________\n",
      "dense (Dense)                (None, 4960)              24606560  \n",
      "_________________________________________________________________\n",
      "batch_normalization (BatchNo (None, 4960)              19840     \n",
      "_________________________________________________________________\n",
      "activation (Activation)      (None, 4960)              0         \n",
      "_________________________________________________________________\n",
      "dense_1 (Dense)              (None, 1138)              5645618   \n",
      "_________________________________________________________________\n",
      "batch_normalization_1 (Batch (None, 1138)              4552      \n",
      "_________________________________________________________________\n",
      "activation_1 (Activation)    (None, 1138)              0         \n",
      "_________________________________________________________________\n",
      "dense_2 (Dense)              (None, 261)               297279    \n",
      "_________________________________________________________________\n",
      "activation_2 (Activation)    (None, 261)               0         \n",
      "_________________________________________________________________\n",
      "dense_3 (Dense)              (None, 60)                15720     \n",
      "_________________________________________________________________\n",
      "activation_3 (Activation)    (None, 60)                0         \n",
      "=================================================================\n",
      "Total params: 30,589,569\n",
      "Trainable params: 30,577,373\n",
      "Non-trainable params: 12,196\n",
      "_________________________________________________________________\n",
      "Training MLPModel model on data of shape (10000, 4960)...\n",
      "Epoch 1/10\n",
      "40/40 [==============================] - 2s 24ms/step - loss: 0.2058 - mse: 0.2058\n",
      "Epoch 2/10\n",
      "40/40 [==============================] - 1s 24ms/step - loss: 0.0305 - mse: 0.0305\n",
      "Epoch 3/10\n",
      "40/40 [==============================] - 1s 24ms/step - loss: 0.0289 - mse: 0.0289\n",
      "Epoch 4/10\n",
      "40/40 [==============================] - 1s 23ms/step - loss: 0.0258 - mse: 0.0258\n",
      "Epoch 5/10\n",
      "40/40 [==============================] - 1s 24ms/step - loss: 0.0256 - mse: 0.0256\n",
      "Epoch 6/10\n",
      "40/40 [==============================] - 1s 24ms/step - loss: 0.0270 - mse: 0.0270\n",
      "Epoch 7/10\n",
      "40/40 [==============================] - 1s 23ms/step - loss: 0.0255 - mse: 0.0255\n",
      "Epoch 8/10\n",
      "40/40 [==============================] - 1s 23ms/step - loss: 0.0279 - mse: 0.0279\n",
      "Epoch 9/10\n",
      "40/40 [==============================] - 1s 23ms/step - loss: 0.0203 - mse: 0.0203\n",
      "Epoch 10/10\n",
      "40/40 [==============================] - 1s 23ms/step - loss: 0.0212 - mse: 0.0212\n",
      "All done training, testing...\n",
      "Model had RMSE: 0.154164, and real-world RMSE: 4.733407\n",
      "New best RMSE!, doing val...\n"
     ]
    }
   ],
   "source": [
    "model = MLPModel(norm_func=nf, act='tanh', epochs=10, max_data=10_000, data_and_stats=(data, stats), **kwargs)\n",
    "model.train()\n",
    "pred = model.model.predict(data['test_x'][0:1])"
   ]
  },
  {
   "cell_type": "code",
   "execution_count": 75,
   "id": "b9320405",
   "metadata": {},
   "outputs": [],
   "source": [
    "import numpy as np\n",
    "ty = data['test_y'][0:1]\n",
    "rmse = (np.sum((pred - ty) ** 2) / (ty.shape[0] * ty.shape[1])) ** 0.5"
   ]
  },
  {
   "cell_type": "code",
   "execution_count": 77,
   "id": "a302ce1f",
   "metadata": {},
   "outputs": [
    {
     "data": {
      "text/plain": [
       "array([[-28.89477539, -27.79284668, -29.13024902, -27.7286377 ,\n",
       "        -28.92025757, -27.63537598, -29.06097412, -27.29064941,\n",
       "        -29.16082764, -26.4744873 , -29.11550903, -27.71203613,\n",
       "        -29.29278564, -27.51525879, -29.02767944, -27.34143066,\n",
       "        -29.04916382, -28.1854248 , -29.07901001, -27.68859863,\n",
       "        -28.6991272 , -28.92468262, -29.43325806, -26.12390137,\n",
       "        -28.76528931, -27.52966309, -29.38864136, -27.09240723,\n",
       "        -28.98141479, -27.59606934, -29.0774231 , -27.59289551,\n",
       "        -29.05670166, -27.40148926, -29.10577393, -27.40661621,\n",
       "        -29.25534058, -27.15783691, -28.81204224, -27.57727051,\n",
       "        -29.25256348, -27.43713379, -29.11517334, -27.83117676,\n",
       "        -29.20999146, -27.52941895, -29.04144287, -27.2154541 ,\n",
       "        -29.04064941, -27.71960449, -28.98620605, -27.2635498 ,\n",
       "        -29.23327637, -27.6204834 , -28.92382812, -27.3170166 ,\n",
       "        -29.03170776, -27.41931152, -29.04727173, -27.26574707]])"
      ]
     },
     "execution_count": 77,
     "metadata": {},
     "output_type": "execute_result"
    }
   ],
   "source": [
    "fp(ty, stats)"
   ]
  },
  {
   "cell_type": "code",
   "execution_count": null,
   "id": "e775b71e",
   "metadata": {},
   "outputs": [],
   "source": [
    "def unpack_y(z, data):\n",
    "    ret = z.copy().reshape([z.shape[0], -1, 2])\n",
    "    ret[:, 0, :] += data['test_pred_off'][0:1]\n",
    "    return np.cumsum(ret, axis=1).reshape([z.shape[0], -1])"
   ]
  },
  {
   "cell_type": "code",
   "execution_count": 82,
   "id": "f7251d82",
   "metadata": {},
   "outputs": [],
   "source": [
    "\n",
    "# Undo the normalization\n",
    "y2 = fp(ty, stats, **kwargs)\n",
    "pred2 = fp(pred, stats, **kwargs)\n",
    "\n",
    "# Shift values into their correct positions\n",
    "y3 = unpack_y(y2, data)\n",
    "pred3 = unpack_y(pred2, data)\n",
    "\n",
    "# Make metrics for real-world output\n",
    "real_rmse = (np.sum((pred3 - y3) ** 2) / (y.shape[0] * y.shape[1])) ** 0.5"
   ]
  },
  {
   "cell_type": "code",
   "execution_count": 83,
   "id": "38b24777",
   "metadata": {},
   "outputs": [
    {
     "data": {
      "text/plain": [
       "6.53977400056759"
      ]
     },
     "execution_count": 83,
     "metadata": {},
     "output_type": "execute_result"
    }
   ],
   "source": [
    "real_rmse"
   ]
  },
  {
   "cell_type": "code",
   "execution_count": null,
   "id": "ea556003",
   "metadata": {},
   "outputs": [],
   "source": [
    "ty"
   ]
  },
  {
   "cell_type": "code",
   "execution_count": null,
   "id": "a7e0f7b3",
   "metadata": {},
   "outputs": [],
   "source": [
    "y1"
   ]
  },
  {
   "cell_type": "code",
   "execution_count": null,
   "id": "b28b61df",
   "metadata": {},
   "outputs": [],
   "source": [
    "fp(ty, stats)"
   ]
  },
  {
   "cell_type": "code",
   "execution_count": null,
   "id": "cbae500a",
   "metadata": {},
   "outputs": [],
   "source": []
  }
 ],
 "metadata": {
  "kernelspec": {
   "display_name": "Python 3",
   "language": "python",
   "name": "python3"
  },
  "language_info": {
   "codemirror_mode": {
    "name": "ipython",
    "version": 3
   },
   "file_extension": ".py",
   "mimetype": "text/x-python",
   "name": "python",
   "nbconvert_exporter": "python",
   "pygments_lexer": "ipython3",
   "version": "3.8.8"
  }
 },
 "nbformat": 4,
 "nbformat_minor": 5
}
